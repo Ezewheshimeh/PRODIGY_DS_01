{
 "cells": [
  {
   "cell_type": "code",
   "execution_count": 15,
   "id": "6acdf7a1",
   "metadata": {},
   "outputs": [],
   "source": [
    "import pandas as pd\n",
    "import matplotlib.pyplot as plt\n",
    "import seaborn as sns"
   ]
  },
  {
   "cell_type": "code",
   "execution_count": 16,
   "id": "8717281c",
   "metadata": {},
   "outputs": [],
   "source": [
    "file_path = \"Metadata_Country_API_SP.POP.TOTL_DS2_en_csv_v2_9949.csv\"\n",
    "data = pd.read_csv(file_path)"
   ]
  },
  {
   "cell_type": "code",
   "execution_count": 17,
   "id": "722b6e8c",
   "metadata": {},
   "outputs": [
    {
     "name": "stdout",
     "output_type": "stream",
     "text": [
      "  Country Code                     Region          IncomeGroup  \\\n",
      "0          ABW  Latin America & Caribbean          High income   \n",
      "1          AFE                        NaN                  NaN   \n",
      "2          AFG                 South Asia           Low income   \n",
      "3          AFW                        NaN                  NaN   \n",
      "4          AGO         Sub-Saharan Africa  Lower middle income   \n",
      "\n",
      "                                        SpecialNotes  \\\n",
      "0                                                NaN   \n",
      "1  26 countries, stretching from the Red Sea in t...   \n",
      "2  The reporting period for national accounts dat...   \n",
      "3  22 countries, stretching from the westernmost ...   \n",
      "4  The World Bank systematically assesses the app...   \n",
      "\n",
      "                     TableName  Unnamed: 5  \n",
      "0                        Aruba         NaN  \n",
      "1  Africa Eastern and Southern         NaN  \n",
      "2                  Afghanistan         NaN  \n",
      "3   Africa Western and Central         NaN  \n",
      "4                       Angola         NaN  \n",
      "Index(['Country Code', 'Region', 'IncomeGroup', 'SpecialNotes', 'TableName',\n",
      "       'Unnamed: 5'],\n",
      "      dtype='object')\n"
     ]
    }
   ],
   "source": [
    "print(data.head())\n",
    "print(data.columns)"
   ]
  },
  {
   "cell_type": "code",
   "execution_count": null,
   "id": "37aa754c",
   "metadata": {},
   "outputs": [],
   "source": [
    "plt.figure(figsize=(10,6))\n",
    "sns.histplot(data=data,x='IncomeGroup',bins=20, kde =True)\n",
    "plt.title('Distribution of Income Group')\n",
    "plt.xlabel('Income Group')\n",
    "plt.ylabel('Frequency')\n",
    "plt.show()"
   ]
  },
  {
   "cell_type": "code",
   "execution_count": null,
   "id": "b30a1b1d",
   "metadata": {},
   "outputs": [],
   "source": [
    "plt.figure(figsize=(10,16))\n",
    "sns.histplot(data=data, x='Region', bins=20, kde=True)\n",
    "plt.title('Distribution of Countries')\n",
    "plt.ylabel('country')\n",
    "plt.ylabel('count')\n",
    "plt.xticks(rotation=45)\n",
    "plt.show()"
   ]
  },
  {
   "cell_type": "code",
   "execution_count": null,
   "id": "9db2e946-e35f-451e-b700-14b630d31ca0",
   "metadata": {},
   "outputs": [],
   "source": []
  }
 ],
 "metadata": {
  "kernelspec": {
   "display_name": "Python 3 (ipykernel)",
   "language": "python",
   "name": "python3"
  },
  "language_info": {
   "codemirror_mode": {
    "name": "ipython",
    "version": 3
   },
   "file_extension": ".py",
   "mimetype": "text/x-python",
   "name": "python",
   "nbconvert_exporter": "python",
   "pygments_lexer": "ipython3",
   "version": "3.9.13"
  }
 },
 "nbformat": 4,
 "nbformat_minor": 5
}
